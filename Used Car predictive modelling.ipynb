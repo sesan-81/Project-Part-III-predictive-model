{
 "cells": [
  {
   "cell_type": "markdown",
   "id": "83621281",
   "metadata": {},
   "source": [
    "### Importing Libraries and dependencies"
   ]
  },
  {
   "cell_type": "code",
   "execution_count": 1,
   "id": "08dadc76",
   "metadata": {},
   "outputs": [],
   "source": [
    "import pandas as pd\n",
    "from sklearn.model_selection import train_test_split\n",
    "from sklearn.ensemble import RandomForestRegressor\n",
    "from sklearn.metrics import mean_squared_error\n",
    "from sklearn.impute import SimpleImputer\n",
    "from sklearn.model_selection import GridSearchCV\n",
    "from sklearn.preprocessing import OneHotEncoder\n",
    "from sklearn.compose import ColumnTransformer\n",
    "from sklearn.pipeline import Pipeline\n",
    "from sklearn.linear_model import LinearRegression\n",
    "from sklearn.metrics import mean_squared_error, r2_score\n",
    "from sklearn.preprocessing import LabelEncoder\n",
    "import numpy as np\n",
    "import matplotlib.pyplot as plt\n",
    "import seaborn as sns\n",
    "%matplotlib inline"
   ]
  },
  {
   "cell_type": "markdown",
   "id": "68c4423f",
   "metadata": {},
   "source": [
    "# Dataset Description:\n",
    "\n",
    "This dataset has been gathered from PakWheels, a highly reputable online platform dedicated to the sale of pre-owned vehicles. It encompasses a vast collection of more than 78,000 cars, each characterized by 13 distinct attributes, with the selling price as the focal point of analysis. These attributes include:\n",
    "\n",
    "**ad_ref: A unique reference number for each advertisement.\n",
    "\n",
    "**city: The city where the vehicle is advertised and sold, offering insights into regional market dynamics.\n",
    "\n",
    "**assembly: Indicates whether the vehicle is imported or locally assembled, providing context on manufacturing origins.\n",
    "\n",
    "**body: Describes the body type of the vehicle, such as sedan, SUV, or hatchback, influencing buyer preferences.\n",
    "\n",
    "**make: Represents the manufacturer of the vehicle, crucial for brand-specific analysis and market trends.\n",
    "\n",
    "**model: Denotes the specific variant or model of the vehicle, offering granularity in understanding consumer choices**\n",
    "\n",
    "**year: Signifies the production year of the vehicle, essential for tracking market trends and aging patterns.\n",
    "\n",
    "**engine: Indicates the engine volume of the vehicle in cubic centimeters, influencing performance and pricing.\n",
    "\n",
    "**transmission: Specifies the transmission type, distinguishing between automatic and manual, reflecting buyer preferences.\n",
    "\n",
    "**fuel_type: Defines the fuel type used by the vehicle, whether petrol, diesel, or hybrid, reflecting environmental and economic considerations.\n",
    "\n",
    "**color: Represents the exterior color of the vehicle, an influential factor in buyer decision-making.\n",
    "\n",
    "**registered: Displays the registration number, including the city or province, providing insights into regional demand.\n",
    "\n",
    "**mileage: Represents the mileage of the vehicle in kilometers, a critical factor indicating usage and potential wear.\n",
    "\n",
    "**price: Quantifies the selling price of the vehicle in Pakistani Rupees (PKR), the primary focus for investors and buyers alike.\n",
    "\n",
    "This rich dataset encapsulates diverse aspects of the pre-owned car market, enabling comprehensive analysis of buyer preferences, market trends, and regional variations. These attributes collectively provide invaluable insights for investors, allowing them to make informed decisions, identify profitable opportunities, and navigate the dynamic landscape of the second-hand car market."
   ]
  },
  {
   "cell_type": "markdown",
   "id": "77a93f9a",
   "metadata": {},
   "source": [
    "### Loading dataset"
   ]
  },
  {
   "cell_type": "code",
   "execution_count": 2,
   "id": "835924f3",
   "metadata": {},
   "outputs": [
    {
     "data": {
      "text/html": [
       "<div>\n",
       "<style scoped>\n",
       "    .dataframe tbody tr th:only-of-type {\n",
       "        vertical-align: middle;\n",
       "    }\n",
       "\n",
       "    .dataframe tbody tr th {\n",
       "        vertical-align: top;\n",
       "    }\n",
       "\n",
       "    .dataframe thead th {\n",
       "        text-align: right;\n",
       "    }\n",
       "</style>\n",
       "<table border=\"1\" class=\"dataframe\">\n",
       "  <thead>\n",
       "    <tr style=\"text-align: right;\">\n",
       "      <th></th>\n",
       "      <th>addref</th>\n",
       "      <th>city</th>\n",
       "      <th>assembly</th>\n",
       "      <th>body</th>\n",
       "      <th>make</th>\n",
       "      <th>model</th>\n",
       "      <th>year</th>\n",
       "      <th>engine</th>\n",
       "      <th>transmission</th>\n",
       "      <th>fuel</th>\n",
       "      <th>color</th>\n",
       "      <th>registered</th>\n",
       "      <th>mileage</th>\n",
       "      <th>price</th>\n",
       "    </tr>\n",
       "  </thead>\n",
       "  <tbody>\n",
       "    <tr>\n",
       "      <th>0</th>\n",
       "      <td>7943732</td>\n",
       "      <td>Peshawar</td>\n",
       "      <td>NaN</td>\n",
       "      <td>Sedan</td>\n",
       "      <td>Toyota</td>\n",
       "      <td>Corolla</td>\n",
       "      <td>2013.0</td>\n",
       "      <td>1300.0</td>\n",
       "      <td>Manual</td>\n",
       "      <td>Petrol</td>\n",
       "      <td>Silver Metallic</td>\n",
       "      <td>Lahore</td>\n",
       "      <td>145000</td>\n",
       "      <td>2870000.0</td>\n",
       "    </tr>\n",
       "    <tr>\n",
       "      <th>1</th>\n",
       "      <td>7730314</td>\n",
       "      <td>Lahore</td>\n",
       "      <td>NaN</td>\n",
       "      <td>Sedan</td>\n",
       "      <td>Honda</td>\n",
       "      <td>City</td>\n",
       "      <td>2000.0</td>\n",
       "      <td>1300.0</td>\n",
       "      <td>Manual</td>\n",
       "      <td>Petrol</td>\n",
       "      <td>Blue</td>\n",
       "      <td>Lahore</td>\n",
       "      <td>230000</td>\n",
       "      <td>995000.0</td>\n",
       "    </tr>\n",
       "    <tr>\n",
       "      <th>2</th>\n",
       "      <td>7943737</td>\n",
       "      <td>Lahore</td>\n",
       "      <td>NaN</td>\n",
       "      <td>Sedan</td>\n",
       "      <td>Toyota</td>\n",
       "      <td>Yaris</td>\n",
       "      <td>2021.0</td>\n",
       "      <td>1300.0</td>\n",
       "      <td>Manual</td>\n",
       "      <td>Petrol</td>\n",
       "      <td>Super White</td>\n",
       "      <td>Punjab</td>\n",
       "      <td>60500</td>\n",
       "      <td>3585000.0</td>\n",
       "    </tr>\n",
       "    <tr>\n",
       "      <th>3</th>\n",
       "      <td>7943733</td>\n",
       "      <td>Lahore</td>\n",
       "      <td>NaN</td>\n",
       "      <td>Hatchback</td>\n",
       "      <td>Suzuki</td>\n",
       "      <td>Swift</td>\n",
       "      <td>2017.0</td>\n",
       "      <td>1300.0</td>\n",
       "      <td>Manual</td>\n",
       "      <td>Petrol</td>\n",
       "      <td>Grey</td>\n",
       "      <td>Islamabad</td>\n",
       "      <td>87000</td>\n",
       "      <td>2250000.0</td>\n",
       "    </tr>\n",
       "    <tr>\n",
       "      <th>4</th>\n",
       "      <td>7923484</td>\n",
       "      <td>Lahore</td>\n",
       "      <td>NaN</td>\n",
       "      <td>Sedan</td>\n",
       "      <td>Honda</td>\n",
       "      <td>Civic</td>\n",
       "      <td>2017.0</td>\n",
       "      <td>1800.0</td>\n",
       "      <td>Automatic</td>\n",
       "      <td>Petrol</td>\n",
       "      <td>Grey</td>\n",
       "      <td>Lahore</td>\n",
       "      <td>86000</td>\n",
       "      <td>4850000.0</td>\n",
       "    </tr>\n",
       "  </tbody>\n",
       "</table>\n",
       "</div>"
      ],
      "text/plain": [
       "    addref      city assembly       body    make    model    year  engine  \\\n",
       "0  7943732  Peshawar      NaN      Sedan  Toyota  Corolla  2013.0  1300.0   \n",
       "1  7730314    Lahore      NaN      Sedan   Honda     City  2000.0  1300.0   \n",
       "2  7943737    Lahore      NaN      Sedan  Toyota    Yaris  2021.0  1300.0   \n",
       "3  7943733    Lahore      NaN  Hatchback  Suzuki    Swift  2017.0  1300.0   \n",
       "4  7923484    Lahore      NaN      Sedan   Honda    Civic  2017.0  1800.0   \n",
       "\n",
       "  transmission    fuel            color registered  mileage      price  \n",
       "0       Manual  Petrol  Silver Metallic     Lahore   145000  2870000.0  \n",
       "1       Manual  Petrol             Blue     Lahore   230000   995000.0  \n",
       "2       Manual  Petrol      Super White     Punjab    60500  3585000.0  \n",
       "3       Manual  Petrol             Grey  Islamabad    87000  2250000.0  \n",
       "4    Automatic  Petrol             Grey     Lahore    86000  4850000.0  "
      ]
     },
     "execution_count": 2,
     "metadata": {},
     "output_type": "execute_result"
    }
   ],
   "source": [
    "df= pd.read_csv(\"pakwheels_used_car_data_v02.csv\")\n",
    "df.head()"
   ]
  },
  {
   "cell_type": "markdown",
   "id": "cef5a415",
   "metadata": {},
   "source": [
    "### Data Cleaning"
   ]
  },
  {
   "cell_type": "code",
   "execution_count": 3,
   "id": "7d081524",
   "metadata": {},
   "outputs": [
    {
     "data": {
      "text/plain": [
       "addref              0\n",
       "city                0\n",
       "assembly        53689\n",
       "body             8904\n",
       "make                0\n",
       "model               0\n",
       "year             4779\n",
       "engine              3\n",
       "transmission        0\n",
       "fuel              906\n",
       "color            1480\n",
       "registered          0\n",
       "mileage             0\n",
       "price             583\n",
       "dtype: int64"
      ]
     },
     "execution_count": 3,
     "metadata": {},
     "output_type": "execute_result"
    }
   ],
   "source": [
    "df.isnull().sum()"
   ]
  },
  {
   "cell_type": "code",
   "execution_count": 4,
   "id": "171c0fca",
   "metadata": {},
   "outputs": [],
   "source": [
    "# Replace null values in the 'assembly' column with 'local'\n",
    "df['assembly'].fillna('local', inplace=True)\n"
   ]
  },
  {
   "cell_type": "code",
   "execution_count": 5,
   "id": "fb32f8cd",
   "metadata": {},
   "outputs": [],
   "source": [
    "#df.drop('assembly',axis= 1, inplace =True)"
   ]
  },
  {
   "cell_type": "code",
   "execution_count": 6,
   "id": "59396e02",
   "metadata": {},
   "outputs": [],
   "source": [
    "df.dropna(inplace=True)"
   ]
  },
  {
   "cell_type": "markdown",
   "id": "a87d768b",
   "metadata": {},
   "source": [
    "### Basic Data Summary"
   ]
  },
  {
   "cell_type": "code",
   "execution_count": 7,
   "id": "7a79bff1",
   "metadata": {},
   "outputs": [
    {
     "name": "stdout",
     "output_type": "stream",
     "text": [
      "<class 'pandas.core.frame.DataFrame'>\n",
      "Int64Index: 63370 entries, 0 to 77877\n",
      "Data columns (total 14 columns):\n",
      " #   Column        Non-Null Count  Dtype  \n",
      "---  ------        --------------  -----  \n",
      " 0   addref        63370 non-null  int64  \n",
      " 1   city          63370 non-null  object \n",
      " 2   assembly      63370 non-null  object \n",
      " 3   body          63370 non-null  object \n",
      " 4   make          63370 non-null  object \n",
      " 5   model         63370 non-null  object \n",
      " 6   year          63370 non-null  float64\n",
      " 7   engine        63370 non-null  float64\n",
      " 8   transmission  63370 non-null  object \n",
      " 9   fuel          63370 non-null  object \n",
      " 10  color         63370 non-null  object \n",
      " 11  registered    63370 non-null  object \n",
      " 12  mileage       63370 non-null  int64  \n",
      " 13  price         63370 non-null  float64\n",
      "dtypes: float64(3), int64(2), object(9)\n",
      "memory usage: 7.3+ MB\n"
     ]
    }
   ],
   "source": [
    "#checking data types\n",
    "df.info()"
   ]
  },
  {
   "cell_type": "code",
   "execution_count": 8,
   "id": "887beff7",
   "metadata": {},
   "outputs": [
    {
     "data": {
      "text/html": [
       "<div>\n",
       "<style scoped>\n",
       "    .dataframe tbody tr th:only-of-type {\n",
       "        vertical-align: middle;\n",
       "    }\n",
       "\n",
       "    .dataframe tbody tr th {\n",
       "        vertical-align: top;\n",
       "    }\n",
       "\n",
       "    .dataframe thead th {\n",
       "        text-align: right;\n",
       "    }\n",
       "</style>\n",
       "<table border=\"1\" class=\"dataframe\">\n",
       "  <thead>\n",
       "    <tr style=\"text-align: right;\">\n",
       "      <th></th>\n",
       "      <th>addref</th>\n",
       "      <th>year</th>\n",
       "      <th>engine</th>\n",
       "      <th>mileage</th>\n",
       "      <th>price</th>\n",
       "    </tr>\n",
       "  </thead>\n",
       "  <tbody>\n",
       "    <tr>\n",
       "      <th>count</th>\n",
       "      <td>6.337000e+04</td>\n",
       "      <td>63370.000000</td>\n",
       "      <td>63370.000000</td>\n",
       "      <td>63370.000000</td>\n",
       "      <td>6.337000e+04</td>\n",
       "    </tr>\n",
       "    <tr>\n",
       "      <th>mean</th>\n",
       "      <td>7.814349e+06</td>\n",
       "      <td>2013.347436</td>\n",
       "      <td>1396.850339</td>\n",
       "      <td>91223.103519</td>\n",
       "      <td>3.868848e+06</td>\n",
       "    </tr>\n",
       "    <tr>\n",
       "      <th>std</th>\n",
       "      <td>2.562486e+05</td>\n",
       "      <td>7.159885</td>\n",
       "      <td>636.744266</td>\n",
       "      <td>83514.852160</td>\n",
       "      <td>5.446117e+06</td>\n",
       "    </tr>\n",
       "    <tr>\n",
       "      <th>min</th>\n",
       "      <td>4.478110e+05</td>\n",
       "      <td>1990.000000</td>\n",
       "      <td>100.000000</td>\n",
       "      <td>1.000000</td>\n",
       "      <td>1.100000e+05</td>\n",
       "    </tr>\n",
       "    <tr>\n",
       "      <th>25%</th>\n",
       "      <td>7.808708e+06</td>\n",
       "      <td>2008.000000</td>\n",
       "      <td>1000.000000</td>\n",
       "      <td>38000.000000</td>\n",
       "      <td>1.550000e+06</td>\n",
       "    </tr>\n",
       "    <tr>\n",
       "      <th>50%</th>\n",
       "      <td>7.868022e+06</td>\n",
       "      <td>2015.000000</td>\n",
       "      <td>1300.000000</td>\n",
       "      <td>80000.000000</td>\n",
       "      <td>2.800000e+06</td>\n",
       "    </tr>\n",
       "    <tr>\n",
       "      <th>75%</th>\n",
       "      <td>7.911298e+06</td>\n",
       "      <td>2019.000000</td>\n",
       "      <td>1600.000000</td>\n",
       "      <td>122000.000000</td>\n",
       "      <td>4.550000e+06</td>\n",
       "    </tr>\n",
       "    <tr>\n",
       "      <th>max</th>\n",
       "      <td>7.943741e+06</td>\n",
       "      <td>2022.000000</td>\n",
       "      <td>7744.000000</td>\n",
       "      <td>1000000.000000</td>\n",
       "      <td>5.290000e+08</td>\n",
       "    </tr>\n",
       "  </tbody>\n",
       "</table>\n",
       "</div>"
      ],
      "text/plain": [
       "             addref          year        engine         mileage         price\n",
       "count  6.337000e+04  63370.000000  63370.000000    63370.000000  6.337000e+04\n",
       "mean   7.814349e+06   2013.347436   1396.850339    91223.103519  3.868848e+06\n",
       "std    2.562486e+05      7.159885    636.744266    83514.852160  5.446117e+06\n",
       "min    4.478110e+05   1990.000000    100.000000        1.000000  1.100000e+05\n",
       "25%    7.808708e+06   2008.000000   1000.000000    38000.000000  1.550000e+06\n",
       "50%    7.868022e+06   2015.000000   1300.000000    80000.000000  2.800000e+06\n",
       "75%    7.911298e+06   2019.000000   1600.000000   122000.000000  4.550000e+06\n",
       "max    7.943741e+06   2022.000000   7744.000000  1000000.000000  5.290000e+08"
      ]
     },
     "execution_count": 8,
     "metadata": {},
     "output_type": "execute_result"
    }
   ],
   "source": [
    "# Summary statistics\n",
    "df.describe()"
   ]
  },
  {
   "cell_type": "markdown",
   "id": "01186d3e",
   "metadata": {},
   "source": [
    "### Data Visualisation"
   ]
  },
  {
   "cell_type": "markdown",
   "id": "2350b505",
   "metadata": {},
   "source": [
    "### Distribution of cars"
   ]
  },
  {
   "cell_type": "code",
   "execution_count": 9,
   "id": "bec5e7a9",
   "metadata": {},
   "outputs": [
    {
     "data": {
      "image/png": "[encoded data removed]",
      "text/plain": [
       "<Figure size 864x576 with 1 Axes>"
      ]
     },
     "metadata": {},
     "output_type": "display_data"
    }
   ],
   "source": [
    "# Set a more visually appealing style\n",
    "sns.set(style=\"whitegrid\", font_scale=1.2)\n",
    "\n",
    "# Create a figure and axis with specified size\n",
    "plt.figure(figsize=(12, 8))\n",
    "\n",
    "# Plot the distribution using seaborn's histplot\n",
    "sns.histplot(df['price'], bins=30, kde=True, color='#1f77b4', edgecolor='k', linewidth=1.2, label='Price Distribution')\n",
    "\n",
    "# Set labels and title with a larger font size\n",
    "plt.xlabel('Price (PKR)', fontsize=14)\n",
    "plt.ylabel('Count', fontsize=14)\n",
    "plt.title('Distribution of Car Prices', fontsize=16)\n",
    "\n",
    "# Customize tick labels and grid appearance\n",
    "plt.xticks(fontsize=12)\n",
    "plt.yticks(fontsize=12)\n",
    "plt.grid(axis='y', linestyle='--', alpha=0.7)\n",
    "\n",
    "# Add legend\n",
    "plt.legend(fontsize=12)\n",
    "\n",
    "# Show the plot\n",
    "plt.show()"
   ]
  },
  {
   "cell_type": "code",
   "execution_count": 10,
   "id": "58c8c36b",
   "metadata": {},
   "outputs": [],
   "source": [
    "#reduction of outliers\n",
    "Q1 = df['price'].quantile(0.25)\n",
    "Q3 = df['price'].quantile(0.75)\n",
    "IQR = Q3 - Q1\n",
    "df1 = df[(df['price'] > Q1 - 1.5 * IQR) & (df['price'] < Q3 + 1.5 * IQR)]\n"
   ]
  },
  {
   "cell_type": "code",
   "execution_count": 11,
   "id": "f11b65b2",
   "metadata": {},
   "outputs": [
    {
     "data": {
      "image/png": "[encoded data removed]",
      "text/plain": [
       "<Figure size 864x576 with 1 Axes>"
      ]
     },
     "metadata": {},
     "output_type": "display_data"
    }
   ],
   "source": [
    "# Set a more visually appealing style\n",
    "sns.set(style=\"whitegrid\", font_scale=1.2)\n",
    "\n",
    "# Create a figure and axis with specified size\n",
    "plt.figure(figsize=(12, 8))\n",
    "\n",
    "# Plot the distribution using seaborn's histplot\n",
    "sns.histplot(df1['price'], bins=30, kde=True, color='#1f77b4', edgecolor='k', linewidth=1.2, label='Price Distribution')\n",
    "\n",
    "# Set labels and title with a larger font size\n",
    "plt.xlabel('Price (PKR)', fontsize=14)\n",
    "plt.ylabel('Count', fontsize=14)\n",
    "plt.title('Distribution of Car Prices', fontsize=16)\n",
    "\n",
    "# Customize tick labels and grid appearance\n",
    "plt.xticks(fontsize=12)\n",
    "plt.yticks(fontsize=12)\n",
    "plt.grid(axis='y', linestyle='--', alpha=0.7)\n",
    "\n",
    "# Add legend\n",
    "plt.legend(fontsize=12)\n",
    "\n",
    "# Show the plot\n",
    "plt.show()"
   ]
  },
  {
   "cell_type": "code",
   "execution_count": 12,
   "id": "1cc20310",
   "metadata": {},
   "outputs": [
    {
     "data": {
      "image/png": "[encoded data removed]",
      "text/plain": [
       "<Figure size 864x432 with 1 Axes>"
      ]
     },
     "metadata": {},
     "output_type": "display_data"
    }
   ],
   "source": [
    "# Calculate average car prices by fuel type\n",
    "fuel_prices = df1.groupby('fuel')['price'].mean().reset_index()\n",
    "\n",
    "# Define custom colors for the pie chart slices\n",
    "colors = ['#ff9999', '#66b3ff', '#99ff99']\n",
    "\n",
    "# Create a new figure with specified size\n",
    "plt.figure(figsize=(12, 6))\n",
    "\n",
    "# Plot a pie chart with fuel types as labels, average prices as values, and percentage as autopct\n",
    "plt.pie(fuel_prices['price'], labels=fuel_prices['fuel'], autopct='%1.1f%%', colors=colors, startangle=90, wedgeprops={'edgecolor': 'white'})\n",
    "\n",
    "# Set the title and adjust the font size\n",
    "plt.title('Average Car Prices by Fuel Type', fontsize=16)\n",
    "\n",
    "# Set the aspect ratio to be equal for a circular pie chart\n",
    "plt.axis('equal')\n",
    "\n",
    "# Display the pie chart\n",
    "plt.show()\n"
   ]
  },
  {
   "cell_type": "code",
   "execution_count": 13,
   "id": "5e146b59",
   "metadata": {},
   "outputs": [
    {
     "data": {
      "image/png": "[encoded data removed]",
      "text/plain": [
       "<Figure size 864x432 with 1 Axes>"
      ]
     },
     "metadata": {},
     "output_type": "display_data"
    }
   ],
   "source": [
    "# First Modification\n",
    "custom_colors = sns.color_palette(\"coolwarm\")\n",
    "plt.figure(figsize=(12, 6))\n",
    "sns.barplot(x='year', y='price', data=df, palette=custom_colors)\n",
    "plt.xlabel('Year', fontsize=14)\n",
    "plt.ylabel('Price (PKR)', fontsize=14)\n",
    "plt.title('Average Car Prices by Year of Production', fontsize=16)\n",
    "plt.xticks(rotation=45, fontsize=12)\n",
    "plt.yticks(fontsize=12)\n",
    "plt.tight_layout()\n",
    "plt.show()\n"
   ]
  },
  {
   "cell_type": "code",
   "execution_count": 14,
   "id": "1a6bc224",
   "metadata": {},
   "outputs": [
    {
     "data": {
      "image/png": "[encoded data removed]",
      "text/plain": [
       "<Figure size 864x432 with 1 Axes>"
      ]
     },
     "metadata": {},
     "output_type": "display_data"
    }
   ],
   "source": [
    "# Create bins for the 'engine' column within the range of 100 to 7750\n",
    "bins = list(range(100, 7800, 250))  # Creates bins from 100 to 7750 with a step of 250\n",
    "labels = [f'{start}-{end-1}' for start, end in zip(bins[:-1], bins[1:])]  # Labels for the bins\n",
    "\n",
    "# Cut the 'engine' column into bins and add labels\n",
    "df['engine_bins'] = pd.cut(df['engine'], bins=bins, labels=labels, include_lowest=True)\n",
    "\n",
    "# Modify the code to visualize average car prices by engine bins\n",
    "custom_colors = sns.color_palette(\"husl\", len(df['engine_bins'].unique()))\n",
    "plt.figure(figsize=(12, 6))\n",
    "sns.barplot(x='engine_bins', y='price', data=df, palette=custom_colors)\n",
    "plt.xlabel('Engine (in CC)', fontsize=14)\n",
    "plt.ylabel('Price (PKR)', fontsize=14)\n",
    "plt.title('Average Car Prices by Engine Bins (100 to 7750 CC)', fontsize=16)\n",
    "plt.xticks(rotation=45, fontsize=12)\n",
    "plt.yticks(fontsize=12)\n",
    "plt.tight_layout()\n",
    "plt.show()\n"
   ]
  },
  {
   "cell_type": "code",
   "execution_count": 15,
   "id": "175600e4",
   "metadata": {},
   "outputs": [
    {
     "data": {
      "image/png": "[encoded data removed]",
      "text/plain": [
       "<Figure size 720x432 with 1 Axes>"
      ]
     },
     "metadata": {},
     "output_type": "display_data"
    }
   ],
   "source": [
    "plt.figure(figsize=(10, 6))\n",
    "sns.countplot(x='body', data=df, order=df['body'].value_counts().index)\n",
    "plt.xlabel('Body Type')\n",
    "plt.ylabel('Count')\n",
    "plt.title('Distribution of Body Types')\n",
    "plt.xticks(rotation=90)\n",
    "plt.show()"
   ]
  },
  {
   "cell_type": "code",
   "execution_count": 16,
   "id": "77412843",
   "metadata": {},
   "outputs": [
    {
     "data": {
      "image/png": "[encoded data removed]",
      "text/plain": [
       "<Figure size 864x432 with 1 Axes>"
      ]
     },
     "metadata": {},
     "output_type": "display_data"
    }
   ],
   "source": [
    "# Set the style and custom colors\n",
    "sns.set_style('whitegrid')\n",
    "custom_colors = ['#1f77b4', '#ff7f0e', '#2ca02c', '#d62728', '#9467bd', '#8c564b', '#e377c2', '#7f7f7f', '#bcbd22', '#17becf']\n",
    "\n",
    "# Create the violin plot for price distribution by make\n",
    "plt.figure(figsize=(12, 6))\n",
    "sns.violinplot(x='make', y='price', data=df, palette=custom_colors)\n",
    "plt.xlabel('Make', fontsize=14)\n",
    "plt.ylabel('Price (PKR)', fontsize=14)\n",
    "plt.title('Price Distribution by Make', fontsize=16)\n",
    "plt.xticks(rotation=90, fontsize=12)\n",
    "plt.yticks(fontsize=12)\n",
    "plt.tight_layout()\n",
    "plt.show()\n"
   ]
  },
  {
   "cell_type": "markdown",
   "id": "491912e5",
   "metadata": {},
   "source": [
    "## Potential investors questions\n",
    "Investors, when analyzing a dataset related to car data, would be interested in various aspects to assess the potential investment opportunities."
   ]
  },
  {
   "cell_type": "markdown",
   "id": "6d011fcf",
   "metadata": {},
   "source": [
    "## 1. Market Demand and Preferences:"
   ]
  },
  {
   "cell_type": "markdown",
   "id": "4277b765",
   "metadata": {},
   "source": [
    "#### Which city has the highest number of car sales?\n",
    "\n",
    "Understanding the city with the highest car sales is crucial for investors as it indicates where the demand for cars is the highest. Investing in regions with high demand can lead to quicker turnover rates and potentially higher profits due to increased customer base."
   ]
  },
  {
   "cell_type": "code",
   "execution_count": 17,
   "id": "db29dab9",
   "metadata": {},
   "outputs": [
    {
     "name": "stdout",
     "output_type": "stream",
     "text": [
      "City with Highest Number of Car Sales: Lahore\n"
     ]
    }
   ],
   "source": [
    "# Answering the question: City with Highest Number of Car Sales\n",
    "print(\"City with Highest Number of Car Sales:\", df['city'].value_counts().idxmax())\n",
    "\n"
   ]
  },
  {
   "cell_type": "markdown",
   "id": "d96f4be9",
   "metadata": {},
   "source": [
    "This code calculates and prints the city with the highest number of car sales. The value_counts() function counts the occurrences of each unique city, and idxmax() returns the index (city name) with the highest count, indicating the city with the most car sales."
   ]
  },
  {
   "cell_type": "code",
   "execution_count": null,
   "id": "b0dad4e0",
   "metadata": {},
   "outputs": [],
   "source": []
  },
  {
   "cell_type": "markdown",
   "id": "d7319d5f",
   "metadata": {},
   "source": [
    "### What are the most popular car color and body type among buyers?\n",
    "\n",
    "\n",
    "Knowing the popular car colors and body types provides insights into consumer preferences. This information is vital for manufacturers and sellers to stock the most demanded variants, ensuring faster sales. For investors, aligning investments with popular choices can increase the likelihood of successful sales."
   ]
  },
  {
   "cell_type": "code",
   "execution_count": 18,
   "id": "6f59e352",
   "metadata": {},
   "outputs": [
    {
     "name": "stdout",
     "output_type": "stream",
     "text": [
      "\n",
      "Most Popular Car Color:\n",
      "White\n",
      "\n",
      "Most In-Demand Car Body Type:\n",
      "Sedan\n"
     ]
    }
   ],
   "source": [
    "# Answering the question: Most Popular Car Color and Body Type\n",
    "print(\"\\nMost Popular Car Color:\")\n",
    "print(df['color'].value_counts().idxmax())\n",
    "\n",
    "print(\"\\nMost In-Demand Car Body Type:\")\n",
    "print(df['body'].value_counts().idxmax())\n"
   ]
  },
  {
   "cell_type": "markdown",
   "id": "14581555",
   "metadata": {},
   "source": [
    "These codes calculate and print the most popular car color and body type among buyers, respectively. value_counts() counts the occurrences of each unique color and body type, and idxmax() returns the most common color and body type based on their counts."
   ]
  },
  {
   "cell_type": "markdown",
   "id": "e2d9decf",
   "metadata": {},
   "source": [
    "# 2. Market Trends and Price Analysis:\n",
    "\n",
    "### How has the average car price changed over the years?\n",
    "\n",
    "\n",
    "\n",
    "Analyzing price trends over time helps investors understand the market's evolution. Rising prices may indicate growing demand or inflation, while decreasing prices might suggest market saturation or economic challenges. Investors can adjust their strategies based on these trends."
   ]
  },
  {
   "cell_type": "code",
   "execution_count": 19,
   "id": "9d6fd8e6",
   "metadata": {},
   "outputs": [
    {
     "name": "stdout",
     "output_type": "stream",
     "text": [
      "\n",
      "Average Car Price Changes Over the Years:\n",
      "year\n",
      "1990.0    7.876968e+05\n",
      "1991.0    1.070931e+06\n",
      "1992.0    1.120229e+06\n",
      "1993.0    1.400868e+06\n",
      "1994.0    1.206633e+06\n",
      "1995.0    1.072384e+06\n",
      "1996.0    1.580772e+06\n",
      "1997.0    1.773314e+06\n",
      "1998.0    1.393279e+06\n",
      "1999.0    1.602613e+06\n",
      "2000.0    1.676305e+06\n",
      "2001.0    1.710921e+06\n",
      "2002.0    2.116481e+06\n",
      "2003.0    2.125743e+06\n",
      "2004.0    1.908603e+06\n",
      "2005.0    1.823305e+06\n",
      "2006.0    1.840892e+06\n",
      "2007.0    1.900336e+06\n",
      "2008.0    2.129627e+06\n",
      "2009.0    2.323087e+06\n",
      "2010.0    2.560825e+06\n",
      "2011.0    2.806160e+06\n",
      "2012.0    3.249237e+06\n",
      "2013.0    3.673405e+06\n",
      "2014.0    3.265749e+06\n",
      "2015.0    3.501821e+06\n",
      "2016.0    4.466166e+06\n",
      "2017.0    4.557740e+06\n",
      "2018.0    5.203527e+06\n",
      "2019.0    4.643120e+06\n",
      "2020.0    5.222623e+06\n",
      "2021.0    5.924023e+06\n",
      "2022.0    6.680635e+06\n",
      "Name: price, dtype: float64\n"
     ]
    }
   ],
   "source": [
    "# Answering the question: Average Car Price Changes Over the Years\n",
    "print(\"\\nAverage Car Price Changes Over the Years:\")\n",
    "print(df.groupby('year')['price'].mean())\n"
   ]
  },
  {
   "cell_type": "markdown",
   "id": "737a0668",
   "metadata": {},
   "source": [
    "This code calculates and prints the average car price for each year. It uses groupby() to group the data by the 'year' column and then calculates the mean price for each year."
   ]
  },
  {
   "cell_type": "code",
   "execution_count": null,
   "id": "d1e2ef9b",
   "metadata": {},
   "outputs": [],
   "source": []
  },
  {
   "cell_type": "markdown",
   "id": "5cebc09d",
   "metadata": {},
   "source": [
    "### What is the average price difference between imported and locally assembled cars?\n",
    "\n",
    "Distinguishing prices between imported and locally assembled cars is vital. Imported cars often command higher prices due to quality and features. Investors can target markets favoring imports for potentially higher margins, whereas markets valuing local assembly might offer competitive pricing."
   ]
  },
  {
   "cell_type": "code",
   "execution_count": 20,
   "id": "b4e17f23",
   "metadata": {},
   "outputs": [
    {
     "name": "stdout",
     "output_type": "stream",
     "text": [
      "\n",
      "Average Price Difference between Imported and Locally Assembled Cars:\n",
      "assembly\n",
      "Imported    5.441975e+06\n",
      "local       3.319757e+06\n",
      "Name: price, dtype: float64\n"
     ]
    }
   ],
   "source": [
    "# Answering the question: Average Price Difference between Imported and Locally Assembled Cars\n",
    "print(\"\\nAverage Price Difference between Imported and Locally Assembled Cars:\")\n",
    "print(df.groupby('assembly')['price'].mean())\n"
   ]
  },
  {
   "cell_type": "markdown",
   "id": "0a2519e8",
   "metadata": {},
   "source": [
    "This code calculates and prints the average car price for imported and locally assembled cars. It uses groupby() to group the data by the 'assembly' column (imported or locally assembled) and calculates the mean price for each category."
   ]
  },
  {
   "cell_type": "markdown",
   "id": "24dd34f9",
   "metadata": {},
   "source": [
    "### Is there a correlation between engine and the price of the vehicle?\n",
    "\n",
    "Understanding the correlation between engine size and price aids investors in pricing strategies. It reveals whether buyers are willing to pay more for powerful engines. This information guides investments, especially in markets where high-performance cars are in demand."
   ]
  },
  {
   "cell_type": "code",
   "execution_count": 21,
   "id": "3b17bcf9",
   "metadata": {},
   "outputs": [
    {
     "name": "stdout",
     "output_type": "stream",
     "text": [
      "\n",
      "Correlation between Engine Volume (cc) and Car Price:\n",
      "          engine     price\n",
      "engine  1.000000  0.565166\n",
      "price   0.565166  1.000000\n"
     ]
    }
   ],
   "source": [
    "# Answering the question: Correlation between Engine Volume (cc) and Car Price\n",
    "print(\"\\nCorrelation between Engine Volume (cc) and Car Price:\")\n",
    "print(df[['engine', 'price']].corr())\n"
   ]
  },
  {
   "cell_type": "markdown",
   "id": "4342ed7f",
   "metadata": {},
   "source": [
    "## 3. Customer Preferences and Behavior:\n",
    "\n",
    "### What is the most preferred transmission type among buyers?\n",
    "\n",
    "Transmission preference impacts purchasing decisions. Markets favoring automatic transmissions may have higher demand for convenience, whereas manual transmissions might appeal to enthusiasts. Investors aligning their inventory with preferred types can enhance customer satisfaction and sales."
   ]
  },
  {
   "cell_type": "code",
   "execution_count": 22,
   "id": "3c2c26ab",
   "metadata": {},
   "outputs": [
    {
     "name": "stdout",
     "output_type": "stream",
     "text": [
      "\n",
      "Most Preferred Transmission Type:\n",
      "Automatic\n"
     ]
    }
   ],
   "source": [
    "# Answering the question: Most Preferred Transmission Type\n",
    "print(\"\\nMost Preferred Transmission Type:\")\n",
    "print(df['transmission'].mode().iloc[0])\n"
   ]
  },
  {
   "cell_type": "code",
   "execution_count": null,
   "id": "ea1befac",
   "metadata": {},
   "outputs": [],
   "source": []
  },
  {
   "cell_type": "markdown",
   "id": "8f8e0706",
   "metadata": {},
   "source": [
    "### Which fuel type (petrol, diesel, or hybrid) is more commonly chosen by customers?\n",
    "\n",
    "Understanding fuel preferences is crucial due to environmental concerns and fuel costs. Markets favoring fuel-efficient or eco-friendly options indicate shifting consumer attitudes. Investors can leverage this insight for eco-conscious or budget-friendly offerings."
   ]
  },
  {
   "cell_type": "code",
   "execution_count": 23,
   "id": "889eee92",
   "metadata": {},
   "outputs": [
    {
     "name": "stdout",
     "output_type": "stream",
     "text": [
      "\n",
      "Most Common Fuel Type:\n",
      "Petrol\n"
     ]
    }
   ],
   "source": [
    "# Answering the question: Most Common Fuel Type\n",
    "print(\"\\nMost Common Fuel Type:\")\n",
    "print(df['fuel'].mode().iloc[0])\n"
   ]
  },
  {
   "cell_type": "code",
   "execution_count": null,
   "id": "05bdab00",
   "metadata": {},
   "outputs": [],
   "source": []
  },
  {
   "cell_type": "markdown",
   "id": "9ce1e7cb",
   "metadata": {},
   "source": [
    "### Is there a correlation between mileage and the price of the vehicle?\n",
    "\n",
    "Analyzing mileage-price correlation helps investors gauge consumer value perception. Higher prices for low-mileage vehicles suggest buyers prioritize longevity and performance. Understanding this correlation assists in pricing strategies, especially for used cars."
   ]
  },
  {
   "cell_type": "code",
   "execution_count": 24,
   "id": "d9c86fd6",
   "metadata": {},
   "outputs": [
    {
     "name": "stdout",
     "output_type": "stream",
     "text": [
      "\n",
      "Correlation between Mileage and Car Price:\n",
      "          mileage     price\n",
      "mileage  1.000000 -0.165226\n",
      "price   -0.165226  1.000000\n"
     ]
    }
   ],
   "source": [
    "# Answering the question: Correlation between Mileage and Car Price\n",
    "print(\"\\nCorrelation between Mileage and Car Price:\")\n",
    "print(df[['mileage', 'price']].corr())\n"
   ]
  },
  {
   "cell_type": "markdown",
   "id": "b2af3f0b",
   "metadata": {},
   "source": [
    "## 4. Manufacturer and Model Analysis:\n",
    "\n",
    "### Which manufacturer has the highest number of car listings?\n",
    "\n",
    "Identifying dominant manufacturers signals market leaders. Investors can collaborate with popular brands for mutual benefits, enhancing credibility and customer trust. Manufacturers with extensive listings indicate strong market presence and potential investment opportunities."
   ]
  },
  {
   "cell_type": "code",
   "execution_count": 25,
   "id": "332f66e4",
   "metadata": {},
   "outputs": [
    {
     "name": "stdout",
     "output_type": "stream",
     "text": [
      "\n",
      "Manufacturer with Highest Number of Car Listings:\n",
      "Toyota\n"
     ]
    }
   ],
   "source": [
    "# Answering the question: Manufacturer with Highest Number of Car Listings\n",
    "print(\"\\nManufacturer with Highest Number of Car Listings:\")\n",
    "print(df['make'].value_counts().idxmax())\n"
   ]
  },
  {
   "cell_type": "markdown",
   "id": "37aed83d",
   "metadata": {},
   "source": [
    "### What are the top-selling car models in the dataset?\n",
    "\n",
    "\n",
    "Top-selling models reflect consumer preferences. Investing in these models enhances inventory turnover, ensuring steady sales. Manufacturers or dealerships aligning their offerings with these popular models cater to prevalent consumer choices, fostering customer loyalty."
   ]
  },
  {
   "cell_type": "code",
   "execution_count": 26,
   "id": "9a692fa3",
   "metadata": {},
   "outputs": [
    {
     "name": "stdout",
     "output_type": "stream",
     "text": [
      "\n",
      "Top-Selling Car Models:\n",
      "Corolla    11267\n",
      "Civic       7555\n",
      "City        4886\n",
      "Mehran      4263\n",
      "Cultus      4142\n",
      "Name: model, dtype: int64\n"
     ]
    }
   ],
   "source": [
    "# Answering the question: Top-Selling Car Models\n",
    "print(\"\\nTop-Selling Car Models:\")\n",
    "print(df['model'].value_counts().head())\n"
   ]
  },
  {
   "cell_type": "markdown",
   "id": "a7ad0716",
   "metadata": {},
   "source": [
    "## 5. Registration and Geographic Analysis:\n",
    "\n",
    "### Which city or province has the highest number of registered cars for sale?\n",
    "\n",
    "\n",
    "Regions with high registered car listings signify market stability and potential profitability. Investors can target these areas for investments, ensuring demand consistency and minimizing market volatility risks."
   ]
  },
  {
   "cell_type": "code",
   "execution_count": 27,
   "id": "01b97b6e",
   "metadata": {},
   "outputs": [
    {
     "name": "stdout",
     "output_type": "stream",
     "text": [
      "\n",
      "City/Province with Highest Number of Registered Cars for Sale:\n",
      "Islamabad\n"
     ]
    }
   ],
   "source": [
    "# Answering the question: City/Province with Highest Number of Registered Cars for Sale\n",
    "print(\"\\nCity/Province with Highest Number of Registered Cars for Sale:\")\n",
    "print(df['registered'].value_counts().idxmax())\n"
   ]
  },
  {
   "cell_type": "markdown",
   "id": "6aee83eb",
   "metadata": {},
   "source": [
    "### Is there a difference in average car prices based on the city/province of registration?\n",
    "\n",
    "Price disparities based on registration locations unveil regional market dynamics. Investors discerning these differences can tailor pricing strategies. Higher prices in specific regions may signify affluent buyers, indicating premium market segments, while lower prices might indicate price-sensitive markets."
   ]
  },
  {
   "cell_type": "code",
   "execution_count": 28,
   "id": "443b90fb",
   "metadata": {},
   "outputs": [
    {
     "name": "stdout",
     "output_type": "stream",
     "text": [
      "\n",
      "Average Car Prices Based on City/Province of Registration:\n",
      "registered\n",
      "Abbottabad        2.180525e+06\n",
      "Abdul Hakeem      2.805000e+06\n",
      "Ahmed Pur East    2.300000e+06\n",
      "Attock            1.835000e+06\n",
      "Badin             1.050000e+06\n",
      "                      ...     \n",
      "Un-Registered     9.751211e+06\n",
      "Vehari            1.267500e+06\n",
      "Wah cantt         5.585000e+06\n",
      "Wazirabad         1.550000e+06\n",
      "Zafarwal          3.500000e+06\n",
      "Name: price, Length: 103, dtype: float64\n"
     ]
    }
   ],
   "source": [
    "# Answering the question: Average Car Prices Based on City/Province of Registration\n",
    "print(\"\\nAverage Car Prices Based on City/Province of Registration:\")\n",
    "print(df.groupby('registered')['price'].mean())\n"
   ]
  },
  {
   "cell_type": "markdown",
   "id": "9d0e5848",
   "metadata": {},
   "source": [
    "# Data Preprocessing"
   ]
  },
  {
   "cell_type": "code",
   "execution_count": 29,
   "id": "8e399597",
   "metadata": {},
   "outputs": [],
   "source": [
    "# Encode categorical variables\n",
    "le = LabelEncoder()\n",
    "df['city'] = le.fit_transform(df['city'])\n",
    "df['assembly'] = le.fit_transform(df['assembly'])\n",
    "df['body'] = le.fit_transform(df['body'])\n",
    "df['make'] = le.fit_transform(df['make'])\n",
    "df['model'] = le.fit_transform(df['model'])\n",
    "df['transmission'] = le.fit_transform(df['transmission'])\n",
    "df['fuel'] = le.fit_transform(df['fuel'])\n",
    "df['color'] = le.fit_transform(df['color'])\n",
    "df['registered'] = le.fit_transform(df['registered'])\n",
    "df['engine_bins'] = le.fit_transform(df['engine_bins'])"
   ]
  },
  {
   "cell_type": "code",
   "execution_count": 30,
   "id": "c55473a5",
   "metadata": {},
   "outputs": [],
   "source": [
    "# Split the data into features (X) and the target variable (y)\n",
    "X = df.drop('price', axis=1)\n",
    "y = df['price']"
   ]
  },
  {
   "cell_type": "code",
   "execution_count": 31,
   "id": "cc9419cc",
   "metadata": {},
   "outputs": [
    {
     "data": {
      "text/html": [
       "<div>\n",
       "<style scoped>\n",
       "    .dataframe tbody tr th:only-of-type {\n",
       "        vertical-align: middle;\n",
       "    }\n",
       "\n",
       "    .dataframe tbody tr th {\n",
       "        vertical-align: top;\n",
       "    }\n",
       "\n",
       "    .dataframe thead th {\n",
       "        text-align: right;\n",
       "    }\n",
       "</style>\n",
       "<table border=\"1\" class=\"dataframe\">\n",
       "  <thead>\n",
       "    <tr style=\"text-align: right;\">\n",
       "      <th></th>\n",
       "      <th>addref</th>\n",
       "      <th>city</th>\n",
       "      <th>assembly</th>\n",
       "      <th>body</th>\n",
       "      <th>make</th>\n",
       "      <th>model</th>\n",
       "      <th>year</th>\n",
       "      <th>engine</th>\n",
       "      <th>transmission</th>\n",
       "      <th>fuel</th>\n",
       "      <th>color</th>\n",
       "      <th>registered</th>\n",
       "      <th>mileage</th>\n",
       "      <th>engine_bins</th>\n",
       "    </tr>\n",
       "  </thead>\n",
       "  <tbody>\n",
       "    <tr>\n",
       "      <th>0</th>\n",
       "      <td>7943732</td>\n",
       "      <td>204</td>\n",
       "      <td>1</td>\n",
       "      <td>16</td>\n",
       "      <td>45</td>\n",
       "      <td>77</td>\n",
       "      <td>2013.0</td>\n",
       "      <td>1300.0</td>\n",
       "      <td>1</td>\n",
       "      <td>2</td>\n",
       "      <td>304</td>\n",
       "      <td>53</td>\n",
       "      <td>145000</td>\n",
       "      <td>1</td>\n",
       "    </tr>\n",
       "    <tr>\n",
       "      <th>1</th>\n",
       "      <td>7730314</td>\n",
       "      <td>154</td>\n",
       "      <td>1</td>\n",
       "      <td>16</td>\n",
       "      <td>19</td>\n",
       "      <td>67</td>\n",
       "      <td>2000.0</td>\n",
       "      <td>1300.0</td>\n",
       "      <td>1</td>\n",
       "      <td>2</td>\n",
       "      <td>43</td>\n",
       "      <td>53</td>\n",
       "      <td>230000</td>\n",
       "      <td>1</td>\n",
       "    </tr>\n",
       "    <tr>\n",
       "      <th>2</th>\n",
       "      <td>7943737</td>\n",
       "      <td>154</td>\n",
       "      <td>1</td>\n",
       "      <td>16</td>\n",
       "      <td>45</td>\n",
       "      <td>294</td>\n",
       "      <td>2021.0</td>\n",
       "      <td>1300.0</td>\n",
       "      <td>1</td>\n",
       "      <td>2</td>\n",
       "      <td>332</td>\n",
       "      <td>78</td>\n",
       "      <td>60500</td>\n",
       "      <td>1</td>\n",
       "    </tr>\n",
       "    <tr>\n",
       "      <th>3</th>\n",
       "      <td>7943733</td>\n",
       "      <td>154</td>\n",
       "      <td>1</td>\n",
       "      <td>7</td>\n",
       "      <td>44</td>\n",
       "      <td>252</td>\n",
       "      <td>2017.0</td>\n",
       "      <td>1300.0</td>\n",
       "      <td>1</td>\n",
       "      <td>2</td>\n",
       "      <td>163</td>\n",
       "      <td>36</td>\n",
       "      <td>87000</td>\n",
       "      <td>1</td>\n",
       "    </tr>\n",
       "    <tr>\n",
       "      <th>4</th>\n",
       "      <td>7923484</td>\n",
       "      <td>154</td>\n",
       "      <td>1</td>\n",
       "      <td>16</td>\n",
       "      <td>19</td>\n",
       "      <td>68</td>\n",
       "      <td>2017.0</td>\n",
       "      <td>1800.0</td>\n",
       "      <td>0</td>\n",
       "      <td>2</td>\n",
       "      <td>163</td>\n",
       "      <td>53</td>\n",
       "      <td>86000</td>\n",
       "      <td>3</td>\n",
       "    </tr>\n",
       "    <tr>\n",
       "      <th>...</th>\n",
       "      <td>...</td>\n",
       "      <td>...</td>\n",
       "      <td>...</td>\n",
       "      <td>...</td>\n",
       "      <td>...</td>\n",
       "      <td>...</td>\n",
       "      <td>...</td>\n",
       "      <td>...</td>\n",
       "      <td>...</td>\n",
       "      <td>...</td>\n",
       "      <td>...</td>\n",
       "      <td>...</td>\n",
       "      <td>...</td>\n",
       "      <td>...</td>\n",
       "    </tr>\n",
       "    <tr>\n",
       "      <th>77873</th>\n",
       "      <td>7775164</td>\n",
       "      <td>47</td>\n",
       "      <td>1</td>\n",
       "      <td>16</td>\n",
       "      <td>19</td>\n",
       "      <td>68</td>\n",
       "      <td>2019.0</td>\n",
       "      <td>1800.0</td>\n",
       "      <td>0</td>\n",
       "      <td>2</td>\n",
       "      <td>338</td>\n",
       "      <td>36</td>\n",
       "      <td>58000</td>\n",
       "      <td>3</td>\n",
       "    </tr>\n",
       "    <tr>\n",
       "      <th>77874</th>\n",
       "      <td>7772775</td>\n",
       "      <td>0</td>\n",
       "      <td>0</td>\n",
       "      <td>7</td>\n",
       "      <td>44</td>\n",
       "      <td>24</td>\n",
       "      <td>2015.0</td>\n",
       "      <td>660.0</td>\n",
       "      <td>0</td>\n",
       "      <td>2</td>\n",
       "      <td>65</td>\n",
       "      <td>36</td>\n",
       "      <td>65000</td>\n",
       "      <td>22</td>\n",
       "    </tr>\n",
       "    <tr>\n",
       "      <th>77875</th>\n",
       "      <td>7773716</td>\n",
       "      <td>60</td>\n",
       "      <td>0</td>\n",
       "      <td>5</td>\n",
       "      <td>29</td>\n",
       "      <td>118</td>\n",
       "      <td>2021.0</td>\n",
       "      <td>1490.0</td>\n",
       "      <td>0</td>\n",
       "      <td>2</td>\n",
       "      <td>13</td>\n",
       "      <td>98</td>\n",
       "      <td>5000</td>\n",
       "      <td>2</td>\n",
       "    </tr>\n",
       "    <tr>\n",
       "      <th>77876</th>\n",
       "      <td>7322377</td>\n",
       "      <td>216</td>\n",
       "      <td>1</td>\n",
       "      <td>16</td>\n",
       "      <td>44</td>\n",
       "      <td>34</td>\n",
       "      <td>2005.0</td>\n",
       "      <td>1300.0</td>\n",
       "      <td>1</td>\n",
       "      <td>2</td>\n",
       "      <td>302</td>\n",
       "      <td>53</td>\n",
       "      <td>19000</td>\n",
       "      <td>1</td>\n",
       "    </tr>\n",
       "    <tr>\n",
       "      <th>77877</th>\n",
       "      <td>7770898</td>\n",
       "      <td>167</td>\n",
       "      <td>0</td>\n",
       "      <td>16</td>\n",
       "      <td>45</td>\n",
       "      <td>77</td>\n",
       "      <td>1998.0</td>\n",
       "      <td>1600.0</td>\n",
       "      <td>0</td>\n",
       "      <td>2</td>\n",
       "      <td>31</td>\n",
       "      <td>53</td>\n",
       "      <td>12345</td>\n",
       "      <td>2</td>\n",
       "    </tr>\n",
       "  </tbody>\n",
       "</table>\n",
       "<p>63370 rows × 14 columns</p>\n",
       "</div>"
      ],
      "text/plain": [
       "        addref  city  assembly  body  make  model    year  engine  \\\n",
       "0      7943732   204         1    16    45     77  2013.0  1300.0   \n",
       "1      7730314   154         1    16    19     67  2000.0  1300.0   \n",
       "2      7943737   154         1    16    45    294  2021.0  1300.0   \n",
       "3      7943733   154         1     7    44    252  2017.0  1300.0   \n",
       "4      7923484   154         1    16    19     68  2017.0  1800.0   \n",
       "...        ...   ...       ...   ...   ...    ...     ...     ...   \n",
       "77873  7775164    47         1    16    19     68  2019.0  1800.0   \n",
       "77874  7772775     0         0     7    44     24  2015.0   660.0   \n",
       "77875  7773716    60         0     5    29    118  2021.0  1490.0   \n",
       "77876  7322377   216         1    16    44     34  2005.0  1300.0   \n",
       "77877  7770898   167         0    16    45     77  1998.0  1600.0   \n",
       "\n",
       "       transmission  fuel  color  registered  mileage  engine_bins  \n",
       "0                 1     2    304          53   145000            1  \n",
       "1                 1     2     43          53   230000            1  \n",
       "2                 1     2    332          78    60500            1  \n",
       "3                 1     2    163          36    87000            1  \n",
       "4                 0     2    163          53    86000            3  \n",
       "...             ...   ...    ...         ...      ...          ...  \n",
       "77873             0     2    338          36    58000            3  \n",
       "77874             0     2     65          36    65000           22  \n",
       "77875             0     2     13          98     5000            2  \n",
       "77876             1     2    302          53    19000            1  \n",
       "77877             0     2     31          53    12345            2  \n",
       "\n",
       "[63370 rows x 14 columns]"
      ]
     },
     "execution_count": 31,
     "metadata": {},
     "output_type": "execute_result"
    }
   ],
   "source": [
    "X"
   ]
  },
  {
   "cell_type": "code",
   "execution_count": 32,
   "id": "8b1272b3",
   "metadata": {},
   "outputs": [],
   "source": [
    "# Train-Test Split\n",
    "X_train, X_test, y_train, y_test = train_test_split(X, y, test_size=0.3, random_state=42)\n"
   ]
  },
  {
   "cell_type": "code",
   "execution_count": 33,
   "id": "ed420a04",
   "metadata": {},
   "outputs": [],
   "source": [
    "# Choose a Model\n",
    "model = RandomForestRegressor()"
   ]
  },
  {
   "cell_type": "code",
   "execution_count": 34,
   "id": "2f7dac21",
   "metadata": {},
   "outputs": [
    {
     "data": {
      "text/html": [
       "<style>#sk-container-id-1 {color: black;background-color: white;}#sk-container-id-1 pre{padding: 0;}#sk-container-id-1 div.sk-toggleable {background-color: white;}#sk-container-id-1 label.sk-toggleable__label {cursor: pointer;display: block;width: 100%;margin-bottom: 0;padding: 0.3em;box-sizing: border-box;text-align: center;}#sk-container-id-1 label.sk-toggleable__label-arrow:before {content: \"▸\";float: left;margin-right: 0.25em;color: #696969;}#sk-container-id-1 label.sk-toggleable__label-arrow:hover:before {color: black;}#sk-container-id-1 div.sk-estimator:hover label.sk-toggleable__label-arrow:before {color: black;}#sk-container-id-1 div.sk-toggleable__content {max-height: 0;max-width: 0;overflow: hidden;text-align: left;background-color: #f0f8ff;}#sk-container-id-1 div.sk-toggleable__content pre {margin: 0.2em;color: black;border-radius: 0.25em;background-color: #f0f8ff;}#sk-container-id-1 input.sk-toggleable__control:checked~div.sk-toggleable__content {max-height: 200px;max-width: 100%;overflow: auto;}#sk-container-id-1 input.sk-toggleable__control:checked~label.sk-toggleable__label-arrow:before {content: \"▾\";}#sk-container-id-1 div.sk-estimator input.sk-toggleable__control:checked~label.sk-toggleable__label {background-color: #d4ebff;}#sk-container-id-1 div.sk-label input.sk-toggleable__control:checked~label.sk-toggleable__label {background-color: #d4ebff;}#sk-container-id-1 input.sk-hidden--visually {border: 0;clip: rect(1px 1px 1px 1px);clip: rect(1px, 1px, 1px, 1px);height: 1px;margin: -1px;overflow: hidden;padding: 0;position: absolute;width: 1px;}#sk-container-id-1 div.sk-estimator {font-family: monospace;background-color: #f0f8ff;border: 1px dotted black;border-radius: 0.25em;box-sizing: border-box;margin-bottom: 0.5em;}#sk-container-id-1 div.sk-estimator:hover {background-color: #d4ebff;}#sk-container-id-1 div.sk-parallel-item::after {content: \"\";width: 100%;border-bottom: 1px solid gray;flex-grow: 1;}#sk-container-id-1 div.sk-label:hover label.sk-toggleable__label {background-color: #d4ebff;}#sk-container-id-1 div.sk-serial::before {content: \"\";position: absolute;border-left: 1px solid gray;box-sizing: border-box;top: 0;bottom: 0;left: 50%;z-index: 0;}#sk-container-id-1 div.sk-serial {display: flex;flex-direction: column;align-items: center;background-color: white;padding-right: 0.2em;padding-left: 0.2em;position: relative;}#sk-container-id-1 div.sk-item {position: relative;z-index: 1;}#sk-container-id-1 div.sk-parallel {display: flex;align-items: stretch;justify-content: center;background-color: white;position: relative;}#sk-container-id-1 div.sk-item::before, #sk-container-id-1 div.sk-parallel-item::before {content: \"\";position: absolute;border-left: 1px solid gray;box-sizing: border-box;top: 0;bottom: 0;left: 50%;z-index: -1;}#sk-container-id-1 div.sk-parallel-item {display: flex;flex-direction: column;z-index: 1;position: relative;background-color: white;}#sk-container-id-1 div.sk-parallel-item:first-child::after {align-self: flex-end;width: 50%;}#sk-container-id-1 div.sk-parallel-item:last-child::after {align-self: flex-start;width: 50%;}#sk-container-id-1 div.sk-parallel-item:only-child::after {width: 0;}#sk-container-id-1 div.sk-dashed-wrapped {border: 1px dashed gray;margin: 0 0.4em 0.5em 0.4em;box-sizing: border-box;padding-bottom: 0.4em;background-color: white;}#sk-container-id-1 div.sk-label label {font-family: monospace;font-weight: bold;display: inline-block;line-height: 1.2em;}#sk-container-id-1 div.sk-label-container {text-align: center;}#sk-container-id-1 div.sk-container {/* jupyter's `normalize.less` sets `[hidden] { display: none; }` but bootstrap.min.css set `[hidden] { display: none !important; }` so we also need the `!important` here to be able to override the default hidden behavior on the sphinx rendered scikit-learn.org. See: https://github.com/scikit-learn/scikit-learn/issues/21755 */display: inline-block !important;position: relative;}#sk-container-id-1 div.sk-text-repr-fallback {display: none;}</style><div id=\"sk-container-id-1\" class=\"sk-top-container\"><div class=\"sk-text-repr-fallback\"><pre>RandomForestRegressor()</pre><b>In a Jupyter environment, please rerun this cell to show the HTML representation or trust the notebook. <br />On GitHub, the HTML representation is unable to render, please try loading this page with nbviewer.org.</b></div><div class=\"sk-container\" hidden><div class=\"sk-item\"><div class=\"sk-estimator sk-toggleable\"><input class=\"sk-toggleable__control sk-hidden--visually\" id=\"sk-estimator-id-1\" type=\"checkbox\" checked><label for=\"sk-estimator-id-1\" class=\"sk-toggleable__label sk-toggleable__label-arrow\">RandomForestRegressor</label><div class=\"sk-toggleable__content\"><pre>RandomForestRegressor()</pre></div></div></div></div></div>"
      ],
      "text/plain": [
       "RandomForestRegressor()"
      ]
     },
     "execution_count": 34,
     "metadata": {},
     "output_type": "execute_result"
    }
   ],
   "source": [
    "# Train the model\n",
    "model.fit(X_train, y_train)\n"
   ]
  },
  {
   "cell_type": "code",
   "execution_count": 35,
   "id": "39e0baae",
   "metadata": {},
   "outputs": [],
   "source": [
    "# Make predictions on the testing set\n",
    "y_pred = model.predict(X_test)\n"
   ]
  },
  {
   "cell_type": "code",
   "execution_count": 36,
   "id": "69f31d11",
   "metadata": {},
   "outputs": [
    {
     "name": "stdout",
     "output_type": "stream",
     "text": [
      "Mean Squared Error: 2610137971855.758\n",
      "R-squared: 0.8969413245672725\n"
     ]
    }
   ],
   "source": [
    "# Evaluate the model\n",
    "mse = mean_squared_error(y_test, y_pred)\n",
    "r2 = r2_score(y_test, y_pred)\n",
    "\n",
    "print(f'Mean Squared Error: {mse}')\n",
    "print(f'R-squared: {r2}')"
   ]
  },
  {
   "cell_type": "markdown",
   "id": "e9aaf9e4",
   "metadata": {},
   "source": [
    "# Hypertunning "
   ]
  },
  {
   "cell_type": "code",
   "execution_count": 37,
   "id": "f4855595",
   "metadata": {},
   "outputs": [
    {
     "name": "stdout",
     "output_type": "stream",
     "text": [
      "Tuned Model Mean Squared Error: 2445155413586.3574\n",
      "Tuned Model R-squared: 0.9034554951238039\n",
      "Best Hyperparameters: {'max_depth': None, 'min_samples_leaf': 4, 'min_samples_split': 10, 'n_estimators': 100}\n"
     ]
    }
   ],
   "source": [
    "# Create a RandomForestRegressor model\n",
    "model = RandomForestRegressor()\n",
    "\n",
    "# Define the hyperparameter grid\n",
    "param_grid = {\n",
    "    'n_estimators': [50, 100, 200],\n",
    "    'max_depth': [None, 10, 20, 30],\n",
    "    'min_samples_split': [2, 5, 10],\n",
    "    'min_samples_leaf': [1, 2, 4]\n",
    "}\n",
    "\n",
    "# Create GridSearchCV\n",
    "grid_search = GridSearchCV(estimator=model, param_grid=param_grid, \n",
    "                           scoring='neg_mean_squared_error', cv=5)\n",
    "\n",
    "# Fit the model to the training data\n",
    "grid_search.fit(X_train, y_train)\n",
    "\n",
    "# Get the best hyperparameters\n",
    "best_params = grid_search.best_params_\n",
    "\n",
    "# Train the model with the best hyperparameters\n",
    "best_model = RandomForestRegressor(**best_params)\n",
    "best_model.fit(X_train, y_train)\n",
    "\n",
    "# Make predictions on the testing set\n",
    "y_pred_tuned = best_model.predict(X_test)\n",
    "\n",
    "# Evaluate the tuned model\n",
    "mse_tuned = mean_squared_error(y_test, y_pred_tuned)\n",
    "r2_tuned = r2_score(y_test, y_pred_tuned)\n",
    "\n",
    "print(f'Tuned Model Mean Squared Error: {mse_tuned}')\n",
    "print(f'Tuned Model R-squared: {r2_tuned}')\n",
    "print(f'Best Hyperparameters: {best_params}')"
   ]
  },
  {
   "cell_type": "code",
   "execution_count": null,
   "id": "660d9c0e",
   "metadata": {},
   "outputs": [],
   "source": []
  }
 ],
 "metadata": {
  "kernelspec": {
   "display_name": "Python 3 (ipykernel)",
   "language": "python",
   "name": "python3"
  },
  "language_info": {
   "codemirror_mode": {
    "name": "ipython",
    "version": 3
   },
   "file_extension": ".py",
   "mimetype": "text/x-python",
   "name": "python",
   "nbconvert_exporter": "python",
   "pygments_lexer": "ipython3",
   "version": "3.9.12"
  }
 },
 "nbformat": 4,
 "nbformat_minor": 5
}
